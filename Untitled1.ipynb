{
 "cells": [
  {
   "cell_type": "code",
   "execution_count": 1,
   "id": "d48e7691",
   "metadata": {},
   "outputs": [],
   "source": [
    "import laspy\n",
    "import geopandas as gpd\n",
    "import pdal\n",
    "import matplotlib.pyplot as plt\n",
    "import rasterio\n",
    "import pandas\n",
    "import numpy as np\n",
    "from shapely.geometry import box, Point, Polygon\n",
    "from elevation_extractor import ElevationExtractor\n",
    "\n"
   ]
  },
  {
   "cell_type": "code",
   "execution_count": 2,
   "id": "b2d65782",
   "metadata": {},
   "outputs": [],
   "source": [
    "import warnings\n",
    "warnings.filterwarnings('ignore')"
   ]
  },
  {
   "cell_type": "code",
   "execution_count": 3,
   "id": "4708e0af-c45c-4a61-b46b-af1d20fbbdce",
   "metadata": {},
   "outputs": [],
   "source": [
    "from lidar_fetch_data import Lidar_Data_Fetch\n",
    "from boundaries import Boundaries"
   ]
  },
  {
   "cell_type": "code",
   "execution_count": 4,
   "id": "17ce39b6-290b-4c09-85f1-882761df0909",
   "metadata": {},
   "outputs": [],
   "source": [
    "REGION = \"IA_FullState\"\n",
    "PUBLIC_DATA_URL = \"https://s3-us-west-2.amazonaws.com/usgs-lidar-public/\"\n",
    "epsg = 4326"
   ]
  },
  {
   "cell_type": "code",
   "execution_count": 5,
   "id": "cae2921f-cb17-477c-8e23-edbf9d0a7eb7",
   "metadata": {},
   "outputs": [],
   "source": [
    "fetcher = Lidar_Data_Fetch(PUBLIC_DATA_URL, epsg=epsg)\n",
    "\n",
    "MINX, MINY, MAXX, MAXY = [-93.756155, 41.918015, -93.747334, 41.921429]\n",
    "\n",
    "polygon = Polygon(((MINX, MINY), (MINX, MAXY),\n",
    "                   (MAXX, MAXY), (MAXX, MINY), (MINX, MINY)))\n",
    "\n",
    "\n",
    "\n",
    "data, output_epsg = fetcher.runPipeline(REGION, polygon)\n",
    "\n"
   ]
  },
  {
   "cell_type": "code",
   "execution_count": 6,
   "id": "6718cde8-0682-462b-a9ad-422e8f10a351",
   "metadata": {},
   "outputs": [
    {
     "name": "stdout",
     "output_type": "stream",
     "text": [
      "<class 'geopandas.geodataframe.GeoDataFrame'>\n",
      "RangeIndex: 401577 entries, 0 to 401576\n",
      "Data columns (total 2 columns):\n",
      " #   Column     Non-Null Count   Dtype   \n",
      "---  ------     --------------   -----   \n",
      " 0   elevation  401577 non-null  float64 \n",
      " 1   geometry   401577 non-null  geometry\n",
      "dtypes: float64(1), geometry(1)\n",
      "memory usage: 6.1 MB\n",
      "None\n",
      "        elevation                    geometry\n",
      "0          318.49  POINT (-93.74734 41.92142)\n",
      "1          318.37  POINT (-93.74735 41.92142)\n",
      "2          318.41  POINT (-93.74736 41.92142)\n",
      "3          318.15  POINT (-93.74748 41.92143)\n",
      "4          318.29  POINT (-93.74747 41.92142)\n",
      "...           ...                         ...\n",
      "401572     318.04  POINT (-93.74811 41.92141)\n",
      "401573     318.10  POINT (-93.74790 41.92143)\n",
      "401574     317.77  POINT (-93.74821 41.92141)\n",
      "401575     317.88  POINT (-93.74823 41.92141)\n",
      "401576     317.95  POINT (-93.74810 41.92143)\n",
      "\n",
      "[401577 rows x 2 columns]\n"
     ]
    }
   ],
   "source": [
    "ee = ElevationExtractor(crs_epgs=epsg)\n",
    "df = ee.get_elevetion(data)\n",
    "\n",
    "print(df.info())\n",
    "print(df)"
   ]
  },
  {
   "cell_type": "code",
   "execution_count": null,
   "id": "f03bd53d-8a78-4a53-ae47-a5ebecb6b3ca",
   "metadata": {},
   "outputs": [],
   "source": []
  }
 ],
 "metadata": {
  "kernelspec": {
   "display_name": "Python [conda env:root] *",
   "language": "python",
   "name": "conda-root-py"
  },
  "language_info": {
   "codemirror_mode": {
    "name": "ipython",
    "version": 3
   },
   "file_extension": ".py",
   "mimetype": "text/x-python",
   "name": "python",
   "nbconvert_exporter": "python",
   "pygments_lexer": "ipython3",
   "version": "3.9.5"
  }
 },
 "nbformat": 4,
 "nbformat_minor": 5
}
