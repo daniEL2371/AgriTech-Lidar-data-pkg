{
 "cells": [
  {
   "cell_type": "code",
   "execution_count": 16,
   "id": "d48e7691",
   "metadata": {},
   "outputs": [],
   "source": [
    "import laspy\n",
    "import geopandas as gpd\n",
    "import pdal\n",
    "import matplotlib.pyplot as plt\n",
    "import rasterio\n",
    "import pandas\n",
    "import numpy as np\n",
    "from shapely.geometry import box, Point, Polygon\n",
    "from elevation_extractor import ElevationExtractor\n",
    "\n"
   ]
  },
  {
   "cell_type": "code",
   "execution_count": 2,
   "id": "b2d65782",
   "metadata": {},
   "outputs": [],
   "source": [
    "import warnings\n",
    "warnings.filterwarnings('ignore')"
   ]
  },
  {
   "cell_type": "code",
   "execution_count": 3,
   "id": "4708e0af-c45c-4a61-b46b-af1d20fbbdce",
   "metadata": {},
   "outputs": [],
   "source": [
    "from lidar_fetch_data import Lidar_Data_Fetch\n",
    "from boundaries import Boundaries"
   ]
  },
  {
   "cell_type": "code",
   "execution_count": 4,
   "id": "17ce39b6-290b-4c09-85f1-882761df0909",
   "metadata": {},
   "outputs": [],
   "source": [
    "REGION = \"IA_FullState\"\n",
    "PUBLIC_DATA_URL = \"https://s3-us-west-2.amazonaws.com/usgs-lidar-public/\"\n",
    "epsg = 4326"
   ]
  },
  {
   "cell_type": "code",
   "execution_count": 15,
   "id": "cae2921f-cb17-477c-8e23-edbf9d0a7eb7",
   "metadata": {},
   "outputs": [],
   "source": [
    "fetcher = Lidar_Data_Fetch(PUBLIC_DATA_URL, epsg=epsg)\n",
    "\n",
    "MINX, MINY, MAXX, MAXY = [-93.756155, 41.918015, -93.747334, 41.921429]\n",
    "\n",
    "polygon = Polygon(((MINX, MINY), (MINX, MAXY),\n",
    "                   (MAXX, MAXY), (MAXX, MINY), (MINX, MINY)))\n",
    "\n",
    "\n",
    "\n",
    "data, output_epsg = fetcher.runPipeline(REGION, polygon)\n",
    "\n"
   ]
  },
  {
   "cell_type": "code",
   "execution_count": 17,
   "id": "6718cde8-0682-462b-a9ad-422e8f10a351",
   "metadata": {},
   "outputs": [
    {
     "name": "stdout",
     "output_type": "stream",
     "text": [
      "<class 'geopandas.geodataframe.GeoDataFrame'>\n",
      "RangeIndex: 401577 entries, 0 to 401576\n",
      "Data columns (total 2 columns):\n",
      " #   Column     Non-Null Count   Dtype   \n",
      "---  ------     --------------   -----   \n",
      " 0   elevation  401577 non-null  float64 \n",
      " 1   geometry   401577 non-null  geometry\n",
      "dtypes: float64(1), geometry(1)\n",
      "memory usage: 6.1 MB\n",
      "None\n",
      "        elevation                    geometry\n",
      "0          318.49  POINT (-93.74734 41.92142)\n",
      "1          318.37  POINT (-93.74735 41.92142)\n",
      "2          318.41  POINT (-93.74736 41.92142)\n",
      "3          318.15  POINT (-93.74748 41.92143)\n",
      "4          318.29  POINT (-93.74747 41.92142)\n",
      "...           ...                         ...\n",
      "401572     318.04  POINT (-93.74811 41.92141)\n",
      "401573     318.10  POINT (-93.74790 41.92143)\n",
      "401574     317.77  POINT (-93.74821 41.92141)\n",
      "401575     317.88  POINT (-93.74823 41.92141)\n",
      "401576     317.95  POINT (-93.74810 41.92143)\n",
      "\n",
      "[401577 rows x 2 columns]\n"
     ]
    }
   ],
   "source": [
    "ee = ElevationExtractor(crs_epgs=epsg)\n",
    "df = ee.get_elevetion(data)\n",
    "\n",
    "print(df.info())\n",
    "print(df)"
   ]
  },
  {
   "cell_type": "code",
   "execution_count": 20,
   "id": "ca09819c-6635-4909-8238-512aa194eb86",
   "metadata": {},
   "outputs": [],
   "source": [
    "def get_polygon_boundaries(polygon: Polygon):\n",
    "        polygon_df = gpd.GeoDataFrame([polygon], columns=['geometry'])\n",
    "\n",
    "        polygon_df.set_crs(epsg=epsg, inplace=True)\n",
    "        polygon_df['geometry'] = polygon_df['geometry'].to_crs(\n",
    "            epsg=3857)\n",
    "        minx, miny, maxx, maxy = polygon_df['geometry'][0].bounds\n",
    "\n",
    "        polygon_input = 'POLYGON(('\n",
    "        \n",
    "                print(polygon_df['geometry'].exterior)\n",
    "\n",
    "        xcord, ycord = polygon_df['geometry'].exterior.coords.xy\n",
    "#         for x, y in zip(list(xcord), list(ycord)):\n",
    "#             polygon_input += f'{x} {y}, '\n",
    "#         polygon_input = polygon_input[:-2]\n",
    "#         polygon_input += '))'\n",
    "        \n",
    "#         print(polygon_input)\n",
    "\n",
    "#         return f\"({[minx, maxx]},{[miny,maxy]})\", polygon_in"
   ]
  },
  {
   "cell_type": "code",
   "execution_count": 21,
   "id": "8f21f60a-41f0-4ee4-a426-6fed0db2e0f3",
   "metadata": {},
   "outputs": [
    {
     "ename": "AttributeError",
     "evalue": "'GeoSeries' object has no attribute 'coords'",
     "output_type": "error",
     "traceback": [
      "\u001b[0;31m---------------------------------------------------------------------------\u001b[0m",
      "\u001b[0;31mAttributeError\u001b[0m                            Traceback (most recent call last)",
      "\u001b[0;32m/tmp/ipykernel_17766/197279905.py\u001b[0m in \u001b[0;36m<module>\u001b[0;34m\u001b[0m\n\u001b[0;32m----> 1\u001b[0;31m \u001b[0mget_polygon_boundaries\u001b[0m\u001b[0;34m(\u001b[0m\u001b[0mpolygon\u001b[0m\u001b[0;34m)\u001b[0m\u001b[0;34m\u001b[0m\u001b[0;34m\u001b[0m\u001b[0m\n\u001b[0m",
      "\u001b[0;32m/tmp/ipykernel_17766/3558908984.py\u001b[0m in \u001b[0;36mget_polygon_boundaries\u001b[0;34m(polygon)\u001b[0m\n\u001b[1;32m      9\u001b[0m         \u001b[0mpolygon_input\u001b[0m \u001b[0;34m=\u001b[0m \u001b[0;34m'POLYGON(('\u001b[0m\u001b[0;34m\u001b[0m\u001b[0;34m\u001b[0m\u001b[0m\n\u001b[1;32m     10\u001b[0m \u001b[0;34m\u001b[0m\u001b[0m\n\u001b[0;32m---> 11\u001b[0;31m         \u001b[0mxcord\u001b[0m\u001b[0;34m,\u001b[0m \u001b[0mycord\u001b[0m \u001b[0;34m=\u001b[0m \u001b[0mpolygon_df\u001b[0m\u001b[0;34m[\u001b[0m\u001b[0;34m'geometry'\u001b[0m\u001b[0;34m]\u001b[0m\u001b[0;34m.\u001b[0m\u001b[0mexterior\u001b[0m\u001b[0;34m.\u001b[0m\u001b[0mcoords\u001b[0m\u001b[0;34m.\u001b[0m\u001b[0mxy\u001b[0m\u001b[0;34m\u001b[0m\u001b[0;34m\u001b[0m\u001b[0m\n\u001b[0m\u001b[1;32m     12\u001b[0m         \u001b[0mprint\u001b[0m\u001b[0;34m(\u001b[0m\u001b[0mpolygon_df\u001b[0m\u001b[0;34m[\u001b[0m\u001b[0;34m'geometry'\u001b[0m\u001b[0;34m]\u001b[0m\u001b[0;34m.\u001b[0m\u001b[0mexterior\u001b[0m\u001b[0;34m)\u001b[0m\u001b[0;34m\u001b[0m\u001b[0;34m\u001b[0m\u001b[0m\n\u001b[1;32m     13\u001b[0m \u001b[0;31m#         for x, y in zip(list(xcord), list(ycord)):\u001b[0m\u001b[0;34m\u001b[0m\u001b[0;34m\u001b[0m\u001b[0;34m\u001b[0m\u001b[0m\n",
      "\u001b[0;32m/opt/miniconda/lib/python3.9/site-packages/pandas/core/generic.py\u001b[0m in \u001b[0;36m__getattr__\u001b[0;34m(self, name)\u001b[0m\n\u001b[1;32m   5476\u001b[0m         ):\n\u001b[1;32m   5477\u001b[0m             \u001b[0;32mreturn\u001b[0m \u001b[0mself\u001b[0m\u001b[0;34m[\u001b[0m\u001b[0mname\u001b[0m\u001b[0;34m]\u001b[0m\u001b[0;34m\u001b[0m\u001b[0;34m\u001b[0m\u001b[0m\n\u001b[0;32m-> 5478\u001b[0;31m         \u001b[0;32mreturn\u001b[0m \u001b[0mobject\u001b[0m\u001b[0;34m.\u001b[0m\u001b[0m__getattribute__\u001b[0m\u001b[0;34m(\u001b[0m\u001b[0mself\u001b[0m\u001b[0;34m,\u001b[0m \u001b[0mname\u001b[0m\u001b[0;34m)\u001b[0m\u001b[0;34m\u001b[0m\u001b[0;34m\u001b[0m\u001b[0m\n\u001b[0m\u001b[1;32m   5479\u001b[0m \u001b[0;34m\u001b[0m\u001b[0m\n\u001b[1;32m   5480\u001b[0m     \u001b[0;32mdef\u001b[0m \u001b[0m__setattr__\u001b[0m\u001b[0;34m(\u001b[0m\u001b[0mself\u001b[0m\u001b[0;34m,\u001b[0m \u001b[0mname\u001b[0m\u001b[0;34m:\u001b[0m \u001b[0mstr\u001b[0m\u001b[0;34m,\u001b[0m \u001b[0mvalue\u001b[0m\u001b[0;34m)\u001b[0m \u001b[0;34m->\u001b[0m \u001b[0;32mNone\u001b[0m\u001b[0;34m:\u001b[0m\u001b[0;34m\u001b[0m\u001b[0;34m\u001b[0m\u001b[0m\n",
      "\u001b[0;31mAttributeError\u001b[0m: 'GeoSeries' object has no attribute 'coords'"
     ]
    }
   ],
   "source": [
    "get_polygon_boundaries(polygon)"
   ]
  },
  {
   "cell_type": "code",
   "execution_count": null,
   "id": "f03bd53d-8a78-4a53-ae47-a5ebecb6b3ca",
   "metadata": {},
   "outputs": [],
   "source": []
  }
 ],
 "metadata": {
  "kernelspec": {
   "display_name": "Python [conda env:root] *",
   "language": "python",
   "name": "conda-root-py"
  },
  "language_info": {
   "codemirror_mode": {
    "name": "ipython",
    "version": 3
   },
   "file_extension": ".py",
   "mimetype": "text/x-python",
   "name": "python",
   "nbconvert_exporter": "python",
   "pygments_lexer": "ipython3",
   "version": "3.9.5"
  }
 },
 "nbformat": 4,
 "nbformat_minor": 5
}
