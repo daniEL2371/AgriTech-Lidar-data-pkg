{
 "cells": [
  {
   "cell_type": "code",
   "execution_count": 1,
   "id": "d48e7691",
   "metadata": {},
   "outputs": [],
   "source": [
    "import laspy\n",
    "import geopandas as gpd\n",
    "import pdal\n",
    "import matplotlib.pyplot as plt\n",
    "import rasterio\n",
    "import pandas\n",
    "import numpy as np\n",
    "from shapely.geometry import box, Point, Polygon\n",
    "\n"
   ]
  },
  {
   "cell_type": "code",
   "execution_count": 2,
   "id": "b2d65782",
   "metadata": {},
   "outputs": [],
   "source": [
    "import warnings\n",
    "warnings.filterwarnings('ignore')"
   ]
  },
  {
   "cell_type": "code",
   "execution_count": 3,
   "id": "7dcb9e16",
   "metadata": {},
   "outputs": [],
   "source": [
    "las = laspy.read('data/laz/temp.laz')"
   ]
  },
  {
   "cell_type": "code",
   "execution_count": 87,
   "id": "676b3f8f",
   "metadata": {},
   "outputs": [],
   "source": [
    "elevetions = np.array(las.z)"
   ]
  },
  {
   "cell_type": "code",
   "execution_count": 96,
   "id": "41c827b1",
   "metadata": {},
   "outputs": [
    {
     "ename": "NameError",
     "evalue": "name 'gdf' is not defined",
     "output_type": "error",
     "traceback": [
      "\u001b[0;31m---------------------------------------------------------------------------\u001b[0m",
      "\u001b[0;31mNameError\u001b[0m                                 Traceback (most recent call last)",
      "\u001b[0;32m/var/folders/pz/3j4hm0tj07g0nnp6bk493r040000gn/T/ipykernel_48454/2661567736.py\u001b[0m in \u001b[0;36m<module>\u001b[0;34m\u001b[0m\n\u001b[1;32m      2\u001b[0m \u001b[0mdf\u001b[0m\u001b[0;34m[\u001b[0m\u001b[0;34m'elevation'\u001b[0m\u001b[0;34m]\u001b[0m \u001b[0;34m=\u001b[0m \u001b[0melevetions\u001b[0m\u001b[0;34m\u001b[0m\u001b[0;34m\u001b[0m\u001b[0m\n\u001b[1;32m      3\u001b[0m \u001b[0mdf\u001b[0m\u001b[0;34m[\u001b[0m\u001b[0;34m'geometry'\u001b[0m\u001b[0;34m]\u001b[0m \u001b[0;34m=\u001b[0m \u001b[0mgeometry_points\u001b[0m\u001b[0;34m\u001b[0m\u001b[0;34m\u001b[0m\u001b[0m\n\u001b[0;32m----> 4\u001b[0;31m \u001b[0mdf\u001b[0m \u001b[0;34m=\u001b[0m \u001b[0mgdf\u001b[0m\u001b[0;34m.\u001b[0m\u001b[0mset_geometry\u001b[0m\u001b[0;34m(\u001b[0m\u001b[0;34m\"geometry\"\u001b[0m\u001b[0;34m)\u001b[0m\u001b[0;34m\u001b[0m\u001b[0;34m\u001b[0m\u001b[0m\n\u001b[0m",
      "\u001b[0;31mNameError\u001b[0m: name 'gdf' is not defined"
     ]
    }
   ],
   "source": [
    "df = gpd.GeoDataFrame(columns=[\"elevation\", \"geometry\"])\n",
    "df['elevation'] = elevetions\n",
    "df['geometry'] = geometry_points\n",
    "df = gdf.set_geometry(\"geometry\")\n"
   ]
  },
  {
   "cell_type": "code",
   "execution_count": 100,
   "id": "29affb9f",
   "metadata": {},
   "outputs": [
    {
     "data": {
      "text/html": [
       "<div>\n",
       "<style scoped>\n",
       "    .dataframe tbody tr th:only-of-type {\n",
       "        vertical-align: middle;\n",
       "    }\n",
       "\n",
       "    .dataframe tbody tr th {\n",
       "        vertical-align: top;\n",
       "    }\n",
       "\n",
       "    .dataframe thead th {\n",
       "        text-align: right;\n",
       "    }\n",
       "</style>\n",
       "<table border=\"1\" class=\"dataframe\">\n",
       "  <thead>\n",
       "    <tr style=\"text-align: right;\">\n",
       "      <th></th>\n",
       "      <th>geometry</th>\n",
       "    </tr>\n",
       "  </thead>\n",
       "  <tbody>\n",
       "    <tr>\n",
       "      <th>0</th>\n",
       "      <td>POLYGON ((-93.75616 41.91801, -93.75616 41.921...</td>\n",
       "    </tr>\n",
       "  </tbody>\n",
       "</table>\n",
       "</div>"
      ],
      "text/plain": [
       "                                            geometry\n",
       "0  POLYGON ((-93.75616 41.91801, -93.75616 41.921..."
      ]
     },
     "execution_count": 100,
     "metadata": {},
     "output_type": "execute_result"
    }
   ],
   "source": [
    "MINX, MINY, MAXX, MAXY = [-93.756155, 41.918015, -93.747334, 41.921429]\n",
    "polygon = Polygon(((MINX, MINY), (MINX, MAXY), (MAXX, MAXY), (MAXX, MINY), (MINX, MINY)))\n",
    "\n",
    "grid = gpd.GeoDataFrame([polygon], columns=[\"geometry\"])\n",
    "grid.set_crs(epsg=4326, inplace=True)"
   ]
  },
  {
   "cell_type": "code",
   "execution_count": 113,
   "id": "a206c14b",
   "metadata": {},
   "outputs": [],
   "source": [
    "minx, miny, maxx, maxy = grid['geometry'][0].bounds"
   ]
  },
  {
   "cell_type": "code",
   "execution_count": 114,
   "id": "2dc52871",
   "metadata": {},
   "outputs": [
    {
     "data": {
      "text/plain": [
       "-93.756155"
      ]
     },
     "execution_count": 114,
     "metadata": {},
     "output_type": "execute_result"
    }
   ],
   "source": [
    "minx"
   ]
  },
  {
   "cell_type": "code",
   "execution_count": 150,
   "id": "9844d2b2",
   "metadata": {},
   "outputs": [],
   "source": [
    "import laspy\n",
    "import geopandas as gpd\n",
    "from shapely.geometry import box, Point, Polygon\n",
    "\n",
    "\n",
    "\n",
    "class ElevationExtractor:\n",
    "    \n",
    "    def __init__(self, file_path: str, crs_epgs = 26915 ) -> None:\n",
    "        \n",
    "        self.file_path = file_path\n",
    "        self.las = self.__point_data_file(self.file_path)\n",
    "        self.crs_epgs = crs_epgs\n",
    "\n",
    "    def __point_data_file(self, path: str) -> dict:\n",
    "        try:\n",
    "            las = laspy.read(path)\n",
    "            return las\n",
    "\n",
    "        except FileNotFoundError as e:\n",
    "            print(\"File not found\")  \n",
    "    \n",
    "    def get_elevetion(self):\n",
    "        \n",
    "        geometry_points = [Point(x, y) for x, y in zip(self.las.x, self.las.y)]\n",
    "        elevetions = np.array(self.las.z)\n",
    "        \n",
    "        df = gpd.GeoDataFrame(columns=[\"elevation\", \"geometry\"])\n",
    "        df['elevation'] = elevetions\n",
    "        df['geometry'] = geometry_points\n",
    "        df = df.set_geometry(\"geometry\")\n",
    "        df.set_crs(epsg=self.crs_epgs , inplace=True)\n",
    "        \n",
    "        return df\n",
    "    \n",
    "    def covert_crs(self, crs_epgs: int, df: gpd.GeoDataFrame) -> gpd.GeoDataFrame:\n",
    "        \n",
    "        df['geometry'] = df['geometry'].to_crs(crs_epgs)\n",
    "        return df\n",
    "        \n",
    "        \n",
    "        \n"
   ]
  },
  {
   "cell_type": "code",
   "execution_count": 151,
   "id": "539d144b",
   "metadata": {},
   "outputs": [],
   "source": [
    "ee = ElevationExtractor('data/laz/temp.laz')"
   ]
  },
  {
   "cell_type": "code",
   "execution_count": 152,
   "id": "c75a3df0",
   "metadata": {},
   "outputs": [],
   "source": [
    "res = ee.get_elevetion()"
   ]
  },
  {
   "cell_type": "code",
   "execution_count": 154,
   "id": "38302404",
   "metadata": {},
   "outputs": [
    {
     "data": {
      "text/plain": [
       "'POLYGON ((-93.75615500000001 41.918015, -93.75615500000001 41.921429, -93.747334 41.921429, -93.747334 41.918015, -93.75615500000001 41.918015))'"
      ]
     },
     "execution_count": 154,
     "metadata": {},
     "output_type": "execute_result"
    }
   ],
   "source": [
    "str(polygon)"
   ]
  },
  {
   "cell_type": "code",
   "execution_count": 145,
   "id": "5c65775b",
   "metadata": {},
   "outputs": [],
   "source": [
    "res2 = ee.covert_crs(4326, res)"
   ]
  },
  {
   "cell_type": "code",
   "execution_count": 155,
   "id": "dd823aef",
   "metadata": {},
   "outputs": [
    {
     "data": {
      "text/plain": [
       "'(-93.756155, 41.918015, -93.747334, 41.921429)'"
      ]
     },
     "execution_count": 155,
     "metadata": {},
     "output_type": "execute_result"
    }
   ],
   "source": [
    "str(polygon.bounds)"
   ]
  },
  {
   "cell_type": "code",
   "execution_count": 6,
   "id": "41303da9",
   "metadata": {},
   "outputs": [],
   "source": [
    "\n",
    "import geopandas as gpd\n",
    "\n",
    "import pdal\n",
    "import json\n",
    "import ErrorMsgs\n",
    "\n",
    "from boundaries import Boundaries\n",
    "\n",
    "\n",
    "err_msgs = ErrorMsgs.getErrorObj()\n",
    "\n",
    "\n",
    "class Lidar_Data_Fetch2:\n",
    "\n",
    "    def __init__(self, public_data_url, fetch_json_path=\"./fetch.json\") -> None:\n",
    "        self.public_data_url = public_data_url\n",
    "        self.fetch_json_path = fetch_json_path\n",
    "        # todo if folder not exist create folder structure\n",
    "        self.out_put_laz_path = \"./data/laz/temp.laz\"\n",
    "        self.out_put_tif_path = \"./data/tif/temp.tif\"\n",
    "\n",
    "    def __readFetchJson(self, path: str) -> dict:\n",
    "        try:\n",
    "            with open(path, 'r') as json_file:\n",
    "                dict_obj = json.load(json_file)\n",
    "            return dict_obj\n",
    "\n",
    "        except FileNotFoundError as e:\n",
    "            print(err_msgs['FETCH_JSON_FILE_NOT_FOUND'])\n",
    "\n",
    "    def getPipeline(self, region: str, bounds: Boundaries):\n",
    "        fetch_json = self.__readFetchJson(self.fetch_json_path)\n",
    "        BOUND = \"([-10425171.940, -10423171.940], [5164494.71, 5166494.71])\"\n",
    "\n",
    "\n",
    "#         boundaries = bounds.getBoundStr()\n",
    "\n",
    "        full_dataset_path = f\"{self.public_data_url}{region}/ept.json\"\n",
    "\n",
    "        fetch_json['pipeline'][0]['filename'] = full_dataset_path\n",
    "        fetch_json['pipeline'][0]['bounds'] = BOUND\n",
    "\n",
    "        fetch_json['pipeline'][3]['filename'] = self.out_put_laz_path\n",
    "        fetch_json['pipeline'][4]['filename'] = self.out_put_tif_path\n",
    "\n",
    "        pipeline = pdal.Pipeline(json.dumps(fetch_json))\n",
    "\n",
    "        return pipeline\n",
    "\n",
    "    def runPipeline(self, region: str, bounds: Boundaries):\n",
    "        pipeline = self.getPipeline(region, bounds)\n",
    "\n",
    "        try:\n",
    "            pipeline.execute()\n",
    "            metadata = pipeline.metadata\n",
    "            return pipeline.arrays\n",
    "        except RuntimeError as e:\n",
    "            print(e)\n",
    "\n",
    "    def __createDataFolderStruct(self):\n",
    "        # todo create folder structure for output folder\n",
    "        pass\n"
   ]
  },
  {
   "cell_type": "code",
   "execution_count": 12,
   "id": "e0fe6323",
   "metadata": {},
   "outputs": [],
   "source": [
    "from boundaries import Boundaries\n",
    "from shapely.geometry import Polygon\n",
    "\n",
    "\n",
    "REGION = \"IA_FullState\"\n",
    "PUBLIC_DATA_URL = \"https://s3-us-west-2.amazonaws.com/usgs-lidar-public/\"\n",
    "\n",
    "\n",
    "MINX, MINY, MAXX, MAXY = [-93.756155, 41.918015, -93.747334, 41.921429]\n",
    "\n",
    "polygon = Polygon(((MINX, MINY), (MINX, MAXY),\n",
    "                  (MAXX, MAXY), (MAXX, MINY), (MINX, MINY)))\n",
    "\n",
    "fetcher = Lidar_Data_Fetch2(PUBLIC_DATA_URL)\n",
    "\n",
    "# xmin, ymin = -10425171.940, -10423171.940\n",
    "# xmax, ymax = 5164494.710, 5166494.710\n",
    "# bounds = Boundaries(ymin, xmin, ymax, xmax)\n",
    "\n",
    "t = fetcher.runPipeline(REGION, polygon)\n"
   ]
  },
  {
   "cell_type": "code",
   "execution_count": 13,
   "id": "05222e05",
   "metadata": {},
   "outputs": [],
   "source": [
    "MINX, MINY, MAXX, MAXY = [-93.756155, 41.918015, -93.747334, 41.921429]\n",
    "\n",
    "polygon = Polygon(((MINX, MINY), (MINX, MAXY),\n",
    "                  (MAXX, MAXY), (MAXX, MINY), (MINX, MINY)))"
   ]
  },
  {
   "cell_type": "code",
   "execution_count": 23,
   "id": "fdbd7c38",
   "metadata": {},
   "outputs": [],
   "source": [
    "polygon_df = gpd.GeoDataFrame([polygon], columns=['geometry'])"
   ]
  },
  {
   "cell_type": "code",
   "execution_count": 24,
   "id": "1d485e75",
   "metadata": {},
   "outputs": [
    {
     "data": {
      "text/html": [
       "<div>\n",
       "<style scoped>\n",
       "    .dataframe tbody tr th:only-of-type {\n",
       "        vertical-align: middle;\n",
       "    }\n",
       "\n",
       "    .dataframe tbody tr th {\n",
       "        vertical-align: top;\n",
       "    }\n",
       "\n",
       "    .dataframe thead th {\n",
       "        text-align: right;\n",
       "    }\n",
       "</style>\n",
       "<table border=\"1\" class=\"dataframe\">\n",
       "  <thead>\n",
       "    <tr style=\"text-align: right;\">\n",
       "      <th></th>\n",
       "      <th>geometry</th>\n",
       "    </tr>\n",
       "  </thead>\n",
       "  <tbody>\n",
       "    <tr>\n",
       "      <th>0</th>\n",
       "      <td>POLYGON ((-93.75616 41.91801, -93.75616 41.921...</td>\n",
       "    </tr>\n",
       "  </tbody>\n",
       "</table>\n",
       "</div>"
      ],
      "text/plain": [
       "                                            geometry\n",
       "0  POLYGON ((-93.75616 41.91801, -93.75616 41.921..."
      ]
     },
     "execution_count": 24,
     "metadata": {},
     "output_type": "execute_result"
    }
   ],
   "source": [
    "polygon_df.set_crs(epsg=3857, inplace=True)"
   ]
  },
  {
   "cell_type": "code",
   "execution_count": 27,
   "id": "5237d080",
   "metadata": {},
   "outputs": [
    {
     "data": {
      "text/plain": [
       "0    POLYGON ((-0.00084 0.00038, -0.00084 0.00038, ...\n",
       "Name: geometry, dtype: geometry"
      ]
     },
     "execution_count": 27,
     "metadata": {},
     "output_type": "execute_result"
    }
   ],
   "source": [
    "polygon_df['geometry'].to_crs(epsg=4326)"
   ]
  },
  {
   "cell_type": "code",
   "execution_count": 37,
   "id": "e1bb5932",
   "metadata": {},
   "outputs": [],
   "source": [
    "def get_polygon_boundaries(polygon: Polygon):\n",
    "        polygon_df = gpd.GeoDataFrame([polygon], columns=['geometry'])\n",
    "\n",
    "        polygon_df.set_crs(epsg=4326, inplace=True)\n",
    "        polygon_df['geometry'] = polygon_df['geometry'].to_crs(\n",
    "            epsg=3857)\n",
    "        minx, miny, maxx, maxy = polygon_df['geometry'][0].bounds\n",
    "        # bounds: ([minx, maxx], [miny, maxy])\n",
    "        return f\"({[minx, maxx]},{[miny,maxy]})\""
   ]
  },
  {
   "cell_type": "code",
   "execution_count": 38,
   "id": "c7f978f9",
   "metadata": {},
   "outputs": [
    {
     "name": "stdout",
     "output_type": "stream",
     "text": [
      "-10436887.43333523\n"
     ]
    },
    {
     "data": {
      "text/plain": [
       "'([-10436887.43333523, -10435905.484106943],[5148706.389047223, 5149217.145836505])'"
      ]
     },
     "execution_count": 38,
     "metadata": {},
     "output_type": "execute_result"
    }
   ],
   "source": [
    "get_polygon_boundaries(polygon)"
   ]
  },
  {
   "cell_type": "code",
   "execution_count": 40,
   "id": "df603093",
   "metadata": {},
   "outputs": [],
   "source": [
    "def get_crop_polygon(polygon: Polygon):\n",
    "    polygon_cords = 'POLYGON(('\n",
    "    for i in list(polygon.exterior.coords):\n",
    "        polygon_cords += f'{i[0]} {i[1]},'\n",
    "\n",
    "    polygon_cords = polygon_cords[:-1] + '))'\n",
    "\n",
    "    return polygon_cords"
   ]
  },
  {
   "cell_type": "code",
   "execution_count": 41,
   "id": "ee45aadd",
   "metadata": {},
   "outputs": [
    {
     "data": {
      "text/plain": [
       "'POLYGON((-93.756155 41.918015,-93.756155 41.921429,-93.747334 41.921429,-93.747334 41.918015,-93.756155 41.918015))'"
      ]
     },
     "execution_count": 41,
     "metadata": {},
     "output_type": "execute_result"
    }
   ],
   "source": [
    "get_crop_polygon(polygon)"
   ]
  },
  {
   "cell_type": "code",
   "execution_count": 65,
   "id": "cac57b8f",
   "metadata": {},
   "outputs": [
    {
     "data": {
      "text/plain": [
       "'POLYGON((-93.75615500000001 41.918015, -93.75615500000001 41.921429, -93.747334 41.921429, -93.747334 41.918015, -93.75615500000001 41.918015))'"
      ]
     },
     "execution_count": 65,
     "metadata": {},
     "output_type": "execute_result"
    }
   ],
   "source": [
    "''.join(str(polygon).split(\" \", 1)) "
   ]
  },
  {
   "cell_type": "code",
   "execution_count": 52,
   "id": "cd5d39b7",
   "metadata": {},
   "outputs": [
    {
     "data": {
      "text/plain": [
       "True"
      ]
     },
     "execution_count": 52,
     "metadata": {},
     "output_type": "execute_result"
    }
   ],
   "source": [
    "'(10, 11)' == str((10, 11))"
   ]
  },
  {
   "cell_type": "code",
   "execution_count": 49,
   "id": "cd7cd605",
   "metadata": {},
   "outputs": [
    {
     "data": {
      "text/plain": [
       "\"('a', 'b')\""
      ]
     },
     "execution_count": 49,
     "metadata": {},
     "output_type": "execute_result"
    }
   ],
   "source": [
    "str(('a', 'b'))"
   ]
  },
  {
   "cell_type": "code",
   "execution_count": 50,
   "id": "7d48707f",
   "metadata": {},
   "outputs": [
    {
     "data": {
      "text/plain": [
       "'((10, 11))'"
      ]
     },
     "execution_count": 50,
     "metadata": {},
     "output_type": "execute_result"
    }
   ],
   "source": [
    "'((10, 11))'"
   ]
  },
  {
   "cell_type": "code",
   "execution_count": 51,
   "id": "1d85e891",
   "metadata": {},
   "outputs": [
    {
     "data": {
      "text/plain": [
       "'(10, 11)'"
      ]
     },
     "execution_count": 51,
     "metadata": {},
     "output_type": "execute_result"
    }
   ],
   "source": [
    "str((10, 11))"
   ]
  },
  {
   "cell_type": "code",
   "execution_count": 66,
   "id": "f550c9a1",
   "metadata": {},
   "outputs": [
    {
     "ename": "SyntaxError",
     "evalue": "invalid syntax (2111063497.py, line 1)",
     "output_type": "error",
     "traceback": [
      "\u001b[0;36m  File \u001b[0;32m\"/var/folders/pz/3j4hm0tj07g0nnp6bk493r040000gn/T/ipykernel_56183/2111063497.py\"\u001b[0;36m, line \u001b[0;32m1\u001b[0m\n\u001b[0;31m    x = [list of x vals]\u001b[0m\n\u001b[0m              ^\u001b[0m\n\u001b[0;31mSyntaxError\u001b[0m\u001b[0;31m:\u001b[0m invalid syntax\n"
     ]
    }
   ],
   "source": [
    "x = [list of x vals]\n",
    "y = [list of y vals]\n",
    "\n",
    "some_poly = Polygon(x,y)\n",
    "\n",
    "# Extract the point values that define the perimeter of the polygon\n",
    "x, y = some_poly.exterior.coords.xy"
   ]
  },
  {
   "cell_type": "code",
   "execution_count": 67,
   "id": "50a63179",
   "metadata": {},
   "outputs": [],
   "source": []
  },
  {
   "cell_type": "code",
   "execution_count": 69,
   "id": "e6463bba",
   "metadata": {},
   "outputs": [
    {
     "ename": "ValueError",
     "evalue": "not enough values to unpack (expected 2, got 1)",
     "output_type": "error",
     "traceback": [
      "\u001b[0;31m---------------------------------------------------------------------------\u001b[0m",
      "\u001b[0;31mValueError\u001b[0m                                Traceback (most recent call last)",
      "\u001b[0;32m/var/folders/pz/3j4hm0tj07g0nnp6bk493r040000gn/T/ipykernel_56183/1713269759.py\u001b[0m in \u001b[0;36m<module>\u001b[0;34m\u001b[0m\n\u001b[1;32m      1\u001b[0m \u001b[0mtemp\u001b[0m \u001b[0;34m=\u001b[0m \u001b[0;34m'POLYGON(('\u001b[0m\u001b[0;34m\u001b[0m\u001b[0;34m\u001b[0m\u001b[0m\n\u001b[0;32m----> 2\u001b[0;31m \u001b[0;32mfor\u001b[0m \u001b[0mx\u001b[0m\u001b[0;34m,\u001b[0m \u001b[0my\u001b[0m \u001b[0;32min\u001b[0m \u001b[0mzip\u001b[0m\u001b[0;34m(\u001b[0m\u001b[0mpolygon\u001b[0m\u001b[0;34m.\u001b[0m\u001b[0mexterior\u001b[0m\u001b[0;34m.\u001b[0m\u001b[0mcoords\u001b[0m\u001b[0;34m.\u001b[0m\u001b[0mxy\u001b[0m\u001b[0;34m)\u001b[0m\u001b[0;34m:\u001b[0m\u001b[0;34m\u001b[0m\u001b[0;34m\u001b[0m\u001b[0m\n\u001b[0m\u001b[1;32m      3\u001b[0m     \u001b[0mprint\u001b[0m\u001b[0;34m(\u001b[0m\u001b[0mx\u001b[0m\u001b[0;34m,\u001b[0m \u001b[0my\u001b[0m\u001b[0;34m)\u001b[0m\u001b[0;34m\u001b[0m\u001b[0;34m\u001b[0m\u001b[0m\n",
      "\u001b[0;31mValueError\u001b[0m: not enough values to unpack (expected 2, got 1)"
     ]
    }
   ],
   "source": [
    "temp = 'POLYGON(('\n",
    "xcord, ycord = polygon.exterior.coords.xy\n",
    "for x, y in zip(list(xcord), list(ycord)):\n",
    "    print(x, y)"
   ]
  },
  {
   "cell_type": "code",
   "execution_count": null,
   "id": "cceb5123",
   "metadata": {},
   "outputs": [],
   "source": []
  }
 ],
 "metadata": {
  "kernelspec": {
   "display_name": "pdalwork",
   "language": "python",
   "name": "pdalwork"
  },
  "language_info": {
   "codemirror_mode": {
    "name": "ipython",
    "version": 3
   },
   "file_extension": ".py",
   "mimetype": "text/x-python",
   "name": "python",
   "nbconvert_exporter": "python",
   "pygments_lexer": "ipython3",
   "version": "3.9.6"
  }
 },
 "nbformat": 4,
 "nbformat_minor": 5
}
