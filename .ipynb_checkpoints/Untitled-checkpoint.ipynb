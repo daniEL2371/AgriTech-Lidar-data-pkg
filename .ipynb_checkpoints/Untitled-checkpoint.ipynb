{
 "cells": [
  {
   "cell_type": "code",
   "execution_count": 1,
   "id": "83371e05",
   "metadata": {},
   "outputs": [],
   "source": [
    "from shapely.geometry import box, Point, Polygon \n"
   ]
  },
  {
   "cell_type": "code",
   "execution_count": 3,
   "id": "12e3f6db",
   "metadata": {},
   "outputs": [],
   "source": [
    "# fetcher = Lidar_Data_Fetch(PUBLIC_DATA_URL, epsg=epsg)\n",
    "MINX, MINY, MAXX, MAXY = [-93.756155, 41.918015, -93.747334, 41.921429]\n",
    "\n",
    "polygon = Polygon(((MINX, MINY), (MINX, MAXY),\n",
    "                   (MAXX, MAXY), (MAXX, MINY), (MINX, MINY)))"
   ]
  },
  {
   "cell_type": "code",
   "execution_count": 9,
   "id": "80773898-4216-445e-a6aa-ca24e08fa113",
   "metadata": {},
   "outputs": [],
   "source": [
    "x, y = polygon.exterior.coords.xy\n",
    "\n",
    "name = \"\"\n",
    "for i, j in zip(list(x), list(y)):\n",
    "    name += f\"{i}_{j}\"\n",
    "    \n",
    "hashed_name = hash(name)\n",
    "if hashed_name < 0:\n",
    "    hashed_name = \"a\" + str(hashed_name[1:])\n"
   ]
  },
  {
   "cell_type": "code",
   "execution_count": 17,
   "id": "de2ecbf9-debe-4104-9d60-27697e791911",
   "metadata": {},
   "outputs": [
    {
     "data": {
      "text/plain": [
       "int"
      ]
     },
     "execution_count": 17,
     "metadata": {},
     "output_type": "execute_result"
    }
   ],
   "source": []
  },
  {
   "cell_type": "code",
   "execution_count": null,
   "id": "724a1f41-ddff-43c5-8921-1e1285eff3ad",
   "metadata": {},
   "outputs": [],
   "source": []
  }
 ],
 "metadata": {
  "kernelspec": {
   "display_name": "Python 3 (ipykernel)",
   "language": "python",
   "name": "python3"
  },
  "language_info": {
   "codemirror_mode": {
    "name": "ipython",
    "version": 3
   },
   "file_extension": ".py",
   "mimetype": "text/x-python",
   "name": "python",
   "nbconvert_exporter": "python",
   "pygments_lexer": "ipython3",
   "version": "3.9.5"
  }
 },
 "nbformat": 4,
 "nbformat_minor": 5
}
